{
 "cells": [
  {
   "cell_type": "markdown",
   "id": "102674a6",
   "metadata": {},
   "source": [
    "# Question 1"
   ]
  },
  {
   "cell_type": "code",
   "execution_count": 187,
   "id": "adecf173",
   "metadata": {},
   "outputs": [
    {
     "data": {
      "text/plain": [
       "6"
      ]
     },
     "execution_count": 187,
     "metadata": {},
     "output_type": "execute_result"
    }
   ],
   "source": [
    "# Referred class notes\n",
    "a=0\n",
    "\n",
    "def b():\n",
    "    global a   # making the variable global so it can be accessed or modified inside the method\n",
    "    a= c(a)\n",
    "\n",
    "def c(a):\n",
    "    return a+2\n",
    "\n",
    "b()\n",
    "b()\n",
    "b()\n",
    "a"
   ]
  },
  {
   "cell_type": "markdown",
   "id": "3930347a",
   "metadata": {},
   "source": [
    "Explanation:   \n",
    "* In the first method call of b(), value of a is 0. 'global' keyword inside the method b() let us to access or modify the variable a=0 defined outside the method. then a=c(a) will call method c(a) with a=0. c(a) returns 2.\n",
    "* In the second call of b(), value of a is 2, hence c(a) will return 2+2=4. Then value of a will be assigned as 4.\n",
    "* In the third call of b(), value of a is 4 initially. When c(a) is called, it returns 6 as value which is assigned to a.\n",
    "* Hence finally when variable a is printed we get 6 as the result.\n",
    "\n"
   ]
  },
  {
   "cell_type": "markdown",
   "id": "6a6ecac0",
   "metadata": {},
   "source": [
    "# Question 2"
   ]
  },
  {
   "cell_type": "code",
   "execution_count": 3,
   "id": "10ea3381",
   "metadata": {},
   "outputs": [
    {
     "name": "stdout",
     "output_type": "stream",
     "text": [
      ">>> fileLength('FileLength.txt')\n",
      " 5\n",
      "\n",
      "File FileLengt.txt not found\n",
      ">>> fileLength('FileLength.txt')\n",
      " None\n"
     ]
    }
   ],
   "source": [
    "# Referred class notes\n",
    "def fileLength(fileName):\n",
    "    #Open, read and close the file  \n",
    "    try:\n",
    "        fileRead = open(fileName)\n",
    "        content = fileRead.readlines()    # Read and store by line  \n",
    "        fileRead.close()\n",
    "        return len(content)\n",
    "    except FileNotFoundError:             # Catching the error if any and printing customised message\n",
    "        print('\\nFile',fileName,'not found')\n",
    "\n",
    "length1 = fileLength('FileLength.txt')     # File found and no error scenario\n",
    "print('>>> fileLength(\\'FileLength.txt\\')\\n',length1)\n",
    "\n",
    "length2 = fileLength('FileLengt.txt')      # File not founs and customised message displayed\n",
    "print('>>> fileLength(\\'FileLength.txt\\')\\n',length2)\n"
   ]
  },
  {
   "cell_type": "markdown",
   "id": "0cc19b08",
   "metadata": {},
   "source": [
    "# Question 3"
   ]
  },
  {
   "cell_type": "code",
   "execution_count": 69,
   "id": "03f83a8a",
   "metadata": {},
   "outputs": [],
   "source": [
    "# Referred class notes from chapter5 \n",
    "class Marsupial:\n",
    "    \n",
    "    def __init__(self):\n",
    "        self.lstItems=[]\n",
    "    def put_in_pouch(self,item):\n",
    "        self.lstItems.append(item)\n",
    "        \n",
    "    def pouch_contents(self):\n",
    "        print(self.lstItems)\n",
    "\n",
    "\n",
    "        "
   ]
  },
  {
   "cell_type": "code",
   "execution_count": 70,
   "id": "674cc401",
   "metadata": {},
   "outputs": [
    {
     "name": "stdout",
     "output_type": "stream",
     "text": [
      "I am a Kangaroo located at coordinates (0, 0)\n",
      "['doll', 'firetruck', 'kitten']\n",
      "I am a Kangaroo located at coordinates (3, 0)\n"
     ]
    }
   ],
   "source": [
    "# Referred class notes from week 5\n",
    "class Kangaroo(Marsupial):\n",
    "    def __init__(self, xCoord, yCoord):\n",
    "        self.lstItems=[]\n",
    "        self.x=xCoord\n",
    "        self.y=yCoord\n",
    "    def jump(self,dx,dy):\n",
    "        self.x += dx\n",
    "        self.y += dy\n",
    "    def __str__(self):\n",
    "        return 'I am a Kangaroo located at coordinates ({}, {})'.format(self.x, self.y)\n",
    "k = Kangaroo(0,0)\n",
    "print(k)\n",
    "\n",
    "k.put_in_pouch('doll')\n",
    "k.put_in_pouch('firetruck')\n",
    "k.put_in_pouch('kitten')\n",
    "k.pouch_contents()\n",
    "\n",
    "k.jump(1,0)\n",
    "k.jump(1,0)\n",
    "k.jump(1,0)\n",
    "print(k)\n"
   ]
  },
  {
   "cell_type": "markdown",
   "id": "73411e80",
   "metadata": {},
   "source": [
    "# Question 4"
   ]
  },
  {
   "cell_type": "code",
   "execution_count": 47,
   "id": "8c4828c8",
   "metadata": {
    "scrolled": true
   },
   "outputs": [
    {
     "name": "stdout",
     "output_type": "stream",
     "text": [
      "5\n",
      "16\n",
      "8\n",
      "4\n",
      "2\n",
      "1\n"
     ]
    }
   ],
   "source": [
    "n=1\n",
    "\n",
    "def collatz(n):\n",
    "    if n==1:              # Base case\n",
    "        print(1)\n",
    "    elif n%2==0:          # If number is even, apply the below formula\n",
    "        print(int(n))\n",
    "        return collatz(n/2)  # recursively call the method\n",
    "    else:                 # If number is odd, apply the below formula\n",
    "        print(n)\n",
    "        return collatz(3*n+1)\n",
    "    \n",
    "collatz(5)"
   ]
  },
  {
   "cell_type": "markdown",
   "id": "b4f807c5",
   "metadata": {},
   "source": [
    "# Question 5"
   ]
  },
  {
   "cell_type": "code",
   "execution_count": 27,
   "id": "9c991bb7",
   "metadata": {},
   "outputs": [
    {
     "name": "stdout",
     "output_type": "stream",
     "text": [
      ">>> binary(0) \n",
      "0\n",
      ">>>binary(1) \n",
      "1\n",
      ">>> binary(3) \n",
      "11\n",
      ">>> binary(9) \n",
      "1001"
     ]
    }
   ],
   "source": [
    "def binary(n):\n",
    "    if n==0:                # Base case1\n",
    "        print(0, end='')\n",
    "    elif(n==1):             # Base case2\n",
    "        print(1, end='')\n",
    "    else:\n",
    "        binary(n//2)         #recursively call method with qutiont as parameter\n",
    "        print(int(n%2), end='')  # Print remainder in the binary format\n",
    "print(\">>> binary(0) \")\n",
    "binary(0)\n",
    "print(\"\\n>>>binary(1) \")\n",
    "binary(1)\n",
    "print(\"\\n>>> binary(3) \")\n",
    "binary(3)\n",
    "print(\"\\n>>> binary(9) \")\n",
    "binary(9)\n"
   ]
  },
  {
   "cell_type": "markdown",
   "id": "dddddb4f",
   "metadata": {},
   "source": [
    "# Question 6"
   ]
  },
  {
   "cell_type": "code",
   "execution_count": 16,
   "id": "6c96ad02",
   "metadata": {},
   "outputs": [],
   "source": [
    "# Referred class notes and text book Introduction to Computing using Python by Ljubomir Perkovic\n",
    "\n",
    "from html.parser import HTMLParser\n",
    "class LinkParser(HTMLParser):\n",
    "   \n",
    "    def __init__(self):\n",
    "        HTMLParser.__init__(self)\n",
    "        self.indent = 0             # indent value initialised\n",
    "        self.tag = False            # variable to check if the encountered tag is a heading tag\n",
    "        \n",
    "    def handle_data(self,data):\n",
    "        if self.tag:\n",
    "            print(self.indent*' ', data)    # When data is encountered, print data with appropriate indentation\n",
    "     \n",
    "    # Method to set the indentation value and print headings data\n",
    "    def setTagIndentation(self,tagValue, indentValue):\n",
    "        self.tag = tagValue                 # Set tag to true if it is start of heading tag\n",
    "        self.indent += indentValue          # Increment indentation to its corresponding value\n",
    "        \n",
    "    # Method to unset the indentation value and tag flag\n",
    "    def unsetTagIndentation(self,tagValue, indentValue):\n",
    "        self.tag = tagValue                 # Unset tag to false if it is end of heading tag\n",
    "        self.indent -= indentValue          # Decrement indentation to its corresponding value\n",
    "        \n",
    "    \n",
    "    def handle_starttag(self, tag, attrs):\n",
    "        # Defined dictionary for headings with corresponding indentation values\n",
    "        dictStartTag = {'h1':0,'h2':1,'h3':2,'h4':3,'h5':4,'h6':5} \n",
    "        if tag in dictStartTag:\n",
    "            self.setTagIndentation(True,dictStartTag[tag])  # Calling method to set flag and \n",
    "        \n",
    "        \n",
    "    \n",
    "    def handle_endtag(self, tag):\n",
    "         # Defined dictionary for headings with corresponding indentation values\n",
    "        dictEndTag = {'h1':0,'h2':1,'h3':2,'h4':3,'h5':4,'h6':5}\n",
    "        if tag in dictEndTag:\n",
    "            self.setTagIndentation(False,dictEndTag[tag])  # Calling method to unset flag to false \n",
    "            \n",
    "    "
   ]
  },
  {
   "cell_type": "code",
   "execution_count": 17,
   "id": "6832944a",
   "metadata": {
    "scrolled": true
   },
   "outputs": [
    {
     "name": "stdout",
     "output_type": "stream",
     "text": [
      " W3C Mission\n",
      "  Principles\n"
     ]
    }
   ],
   "source": [
    "infile = open('w3c.txt') \n",
    "content = infile.read()    # Read content of the html file\n",
    "infile.close() \n",
    "linkparser = LinkParser() \n",
    "linkparser.feed(content) "
   ]
  },
  {
   "cell_type": "markdown",
   "id": "bc31b016",
   "metadata": {},
   "source": [
    "# Question 7"
   ]
  },
  {
   "cell_type": "code",
   "execution_count": 71,
   "id": "e8c86654",
   "metadata": {},
   "outputs": [],
   "source": [
    "# Referred Chapter 11 of the text book Introduction to Computing using Python by Ljubomir Perkovic\n",
    "\n",
    "from urllib.parse import urljoin\n",
    "from html.parser import HTMLParser\n",
    "from urllib.request import urlopen\n",
    "class Collector(HTMLParser):\n",
    "    'collects hyperlink URLs into a list'\n",
    "\n",
    "    def __init__(self, url):\n",
    "        'initializes parser, the url, and a list'\n",
    "        HTMLParser.__init__(self)\n",
    "        self.url = url\n",
    "        self.links = []\n",
    "    \n",
    "\n",
    "    \n",
    "    def handle_starttag(self, tag, attrs):\n",
    "        'collects hyperlink URLs in their absolute format'\n",
    "        \n",
    "        if tag == 'a':\n",
    "            for attr in attrs:\n",
    "                if attr[0] == 'href':\n",
    "                    absolute = urljoin(self.url, attr[1])\n",
    "                    if absolute[:4] == 'http': # collect HTTP URLs\n",
    "                        self.links.append(absolute)\n",
    "                       \n",
    "                        \n",
    "    def getLinks(self):\n",
    "        'returns hyperlinks URLs in their absolute format'\n",
    "        return self.links\n"
   ]
  },
  {
   "cell_type": "code",
   "execution_count": 72,
   "id": "258225c0",
   "metadata": {},
   "outputs": [
    {
     "name": "stdout",
     "output_type": "stream",
     "text": [
      " https://reed.cs.depaul.edu/lperkovic/test1.html\n",
      "\t http://reed.cs.depaul.edu/lperkovic/test2.html\n",
      "\t\t http://reed.cs.depaul.edu/lperkovic/test4.html\n",
      "\t https://reed.cs.depaul.edu/lperkovic/test3.html\n",
      "\t\t https://reed.cs.depaul.edu/lperkovic/test4.html\n"
     ]
    }
   ],
   "source": [
    "global visited\n",
    "global myDict\n",
    "global urlStack\n",
    "visited = set() # set to store visited URLs\n",
    "urlStack = [] # stack to store the URLs visited recursively\n",
    "myDict = {} # dictionary to store URLs and it's corresponding indentation level in the stack\n",
    "\n",
    "\n",
    "def parse(url, depth, indent):\n",
    "    visited.add(url)\n",
    "    urlStack.append(url)\n",
    "    links = listOfLinks(url)\n",
    "    for link in links:\n",
    "        if link not in visited:\n",
    "            indent += 1\n",
    "            myDict[link] = indent                    # If URL not visited, increment indent and add link to dictionary\n",
    "            try:\n",
    "                if myDict[link] <= depth:            # Check depth \n",
    "                    parse(link, depth, indent)       # Recursively call parse function\n",
    "            except:\n",
    "                pass\n",
    "        indent -= 1                                  # If link is not visited, decrement indentation and continue \n",
    "\n",
    "def listOfLinks(url):\n",
    "    content = urlopen(url).read().decode()\n",
    "    collector = Collector(url)\n",
    "    collector.feed(content)\n",
    "    urls = collector.getLinks()\n",
    "    return urls\n",
    "   \n",
    "# Below line adds the seed URL to the dictionary and sets the level of the stack as 0\n",
    "myDict[\"https://reed.cs.depaul.edu/lperkovic/test1.html\"] = 0\n",
    "# Below line makes the recursive call\n",
    "parse(\"https://reed.cs.depaul.edu/lperkovic/test1.html\", 2, 0)\n",
    "# Below line reverses the elements in the stack\n",
    "urlStack.reverse()\n",
    "\n",
    "# Below stub of code prints the dictionary of URL : level of the tree (for reference)\n",
    "while len(urlStack) > 0:\n",
    "    item = urlStack.pop()\n",
    "    print ('\\t'*myDict[item], item)"
   ]
  },
  {
   "cell_type": "markdown",
   "id": "45c37bb3",
   "metadata": {},
   "source": [
    "# Question 8"
   ]
  },
  {
   "cell_type": "code",
   "execution_count": null,
   "id": "8d7970ee",
   "metadata": {},
   "outputs": [],
   "source": [
    "# Assuming the table name is WeatherTable\n",
    "\n",
    "a. %%sql\n",
    "    SELECT TEMPERATURE FROM WeatherTable\n",
    "b. %%sql\n",
    "    SELECT Distinct(City) FROM WeatherTable\n",
    "c. %%sql\n",
    "    SELECT * FROM WeatherTable \n",
    "    WHERE Country='India'\n",
    "d. %%sql\n",
    "    SELECT * FROM WeatherTable\n",
    "    WHERE Season='Fall'\n",
    "e. %%sql\n",
    "    SELECT City, Country, Season FROM WeatherTable\n",
    "    WHERE Rainfall BETWEEN 200 AND 400\n",
    "f. %%sql\n",
    "    SELECT City, Country FROM WeatherTable \n",
    "    WHERE SEASON='Fall' AND Temp>20 \n",
    "    ORDER BY Temperature\n",
    "g. %%sql\n",
    "    SELECT SUM(Rainfall) FROM WeatherTable \n",
    "    WHERE City = 'Cairo'\n",
    "h. %%sql\n",
    "    SELECT Season, SUM(Rainfall) FROM WeatherTable  \n",
    "    GROUP BY Season"
   ]
  },
  {
   "cell_type": "markdown",
   "id": "f9792000",
   "metadata": {},
   "source": [
    "# Question 9"
   ]
  },
  {
   "cell_type": "code",
   "execution_count": 194,
   "id": "8971d9c2",
   "metadata": {
    "scrolled": false
   },
   "outputs": [
    {
     "name": "stdout",
     "output_type": "stream",
     "text": [
      "a. ['THE', 'QUICK', 'BROWN', 'FOX', 'JUMPS', 'OVER', 'THE', 'LAZY', 'DOG']\n",
      "\n",
      "\n",
      "b. ['the', 'quick', 'brown', 'fox', 'jumps', 'over', 'the', 'lazy', 'dog']\n",
      "\n",
      "\n",
      "c. [3, 5, 5, 3, 5, 4, 3, 4, 3]\n",
      "\n",
      "\n",
      "d. [['THE', 'the', 3], ['QUICK', 'quick', 5], ['BROWN', 'brown', 5], ['FOX', 'fox', 3], ['JUMPS', 'jumps', 5], ['OVER', 'over', 4], ['THE', 'the', 3], ['LAZY', 'lazy', 4], ['DOG', 'dog', 3]]\n",
      "\n",
      "\n",
      "e ['quick', 'brown', 'jumps', 'over', 'lazy']\n",
      "\n",
      "\n"
     ]
    }
   ],
   "source": [
    "words = ['The', 'quick', 'brown', 'fox', 'jumps', 'over','the', 'lazy', 'dog']\n",
    "\n",
    "\n",
    "####======== Question a\n",
    "lsta=[]\n",
    "for items in words:\n",
    "    lsta.append(items.upper())    # Converting list items to uppercase\n",
    "print('a.',lsta)\n",
    "print('\\n')\n",
    "\n",
    "####======== Question b\n",
    "lstb=[]\n",
    "for items in words:\n",
    "    lstb.append(items.lower())    # Converting list items to lowercase\n",
    "print('b.',lstb)\n",
    "print('\\n')\n",
    "\n",
    "####======== Question c\n",
    "lstc=[]\n",
    "for items in words:\n",
    "    lstc.append(len(items))       # Printing length of list items\n",
    "print('c.',lstc)\n",
    "print('\\n')\n",
    "\n",
    "####======== Question d\n",
    "lstd=[]\n",
    "for i in range(0,len(words)):\n",
    "    lstDSub=[]\n",
    "    lstDSub.append(lsta[i])  # Appending calculated uppercase list items from previous sub question\n",
    "    lstDSub.append(lstb[i])  # Appending calculated lowercase list items from previous sub question\n",
    "    lstDSub.append(lstc[i])  # Appending calculated length of list items from previous sub question\n",
    "    lstd.append(lstDSub)\n",
    "print('d.',lstd)\n",
    "print('\\n')\n",
    "\n",
    "######======== Question e\n",
    "lste=[]\n",
    "for items in words:\n",
    "    if len(items)>=4:\n",
    "        lste.append(items)\n",
    "print('e',lste)\n",
    "print('\\n')\n"
   ]
  }
 ],
 "metadata": {
  "kernelspec": {
   "display_name": "Python 3 (ipykernel)",
   "language": "python",
   "name": "python3"
  },
  "language_info": {
   "codemirror_mode": {
    "name": "ipython",
    "version": 3
   },
   "file_extension": ".py",
   "mimetype": "text/x-python",
   "name": "python",
   "nbconvert_exporter": "python",
   "pygments_lexer": "ipython3",
   "version": "3.9.7"
  }
 },
 "nbformat": 4,
 "nbformat_minor": 5
}
